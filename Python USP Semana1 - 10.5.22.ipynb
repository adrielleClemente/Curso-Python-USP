{
 "cells": [
  {
   "cell_type": "code",
   "execution_count": 1,
   "id": "f1a37ed1",
   "metadata": {},
   "outputs": [
    {
     "name": "stdout",
     "output_type": "stream",
     "text": [
      "\n",
      "\n",
      " \n"
     ]
    }
   ],
   "source": [
    "#Printar nome e sobrenome\n",
    "nome=input()\n",
    "sobrenome=input()\n",
    "print(nome,sobrenome)"
   ]
  },
  {
   "cell_type": "code",
   "execution_count": 2,
   "id": "ce711ff4",
   "metadata": {},
   "outputs": [
    {
     "name": "stdout",
     "output_type": "stream",
     "text": [
      "Sua data de nacimento: \n"
     ]
    },
    {
     "ename": "ValueError",
     "evalue": "invalid literal for int() with base 10: ''",
     "output_type": "error",
     "traceback": [
      "\u001b[1;31m---------------------------------------------------------------------------\u001b[0m",
      "\u001b[1;31mValueError\u001b[0m                                Traceback (most recent call last)",
      "Input \u001b[1;32mIn [2]\u001b[0m, in \u001b[0;36m<cell line: 7>\u001b[1;34m()\u001b[0m\n\u001b[0;32m      1\u001b[0m \u001b[38;5;66;03m#Vamos calcular a idade de alguém?  Seu programa deve ler 2 valores inteiros oferecidos no dispositivo de entrada\u001b[39;00m\n\u001b[0;32m      2\u001b[0m \u001b[38;5;66;03m#primeira linha: o ano de nascimento de uma pessoa - segunda: o ano para o qual de deseja saber a idade da pessoa\u001b[39;00m\n\u001b[0;32m      3\u001b[0m \u001b[38;5;66;03m#e informar, como resultado, a idade da pessoa\u001b[39;00m\n\u001b[0;32m      4\u001b[0m \u001b[38;5;66;03m#Entrada:Duas linhas com um valor inteiro cada\u001b[39;00m\n\u001b[0;32m      5\u001b[0m \u001b[38;5;66;03m#Saída:A idade calculada\u001b[39;00m\n\u001b[1;32m----> 7\u001b[0m nascimento\u001b[38;5;241m=\u001b[39m\u001b[38;5;28;43mint\u001b[39;49m\u001b[43m(\u001b[49m\u001b[38;5;28;43minput\u001b[39;49m\u001b[43m(\u001b[49m\u001b[38;5;124;43m'\u001b[39;49m\u001b[38;5;124;43mSua data de nacimento: \u001b[39;49m\u001b[38;5;124;43m'\u001b[39;49m\u001b[43m)\u001b[49m\u001b[43m)\u001b[49m\n\u001b[0;32m      8\u001b[0m ano_atual\u001b[38;5;241m=\u001b[39m\u001b[38;5;28mint\u001b[39m(\u001b[38;5;28minput\u001b[39m(\u001b[38;5;124m'\u001b[39m\u001b[38;5;124mDigite o ano atual: \u001b[39m\u001b[38;5;124m'\u001b[39m))\n\u001b[0;32m      9\u001b[0m idade\u001b[38;5;241m=\u001b[39mano_atual \u001b[38;5;241m-\u001b[39m nascimento\n",
      "\u001b[1;31mValueError\u001b[0m: invalid literal for int() with base 10: ''"
     ]
    }
   ],
   "source": [
    "#Vamos calcular a idade de alguém?  Seu programa deve ler 2 valores inteiros oferecidos no dispositivo de entrada\n",
    "#primeira linha: o ano de nascimento de uma pessoa - segunda: o ano para o qual de deseja saber a idade da pessoa\n",
    "#e informar, como resultado, a idade da pessoa\n",
    "#Entrada:Duas linhas com um valor inteiro cada\n",
    "#Saída:A idade calculada\n",
    "\n",
    "nascimento=int(input('Sua data de nacimento: '))\n",
    "ano_atual=int(input('Digite o ano atual: '))\n",
    "idade=ano_atual - nascimento\n",
    "print(idade)"
   ]
  },
  {
   "cell_type": "code",
   "execution_count": null,
   "id": "a8617743",
   "metadata": {},
   "outputs": [],
   "source": [
    "#O dobro\n",
    "a = int(input())\n",
    "print(a*2)"
   ]
  },
  {
   "cell_type": "code",
   "execution_count": null,
   "id": "b9549850",
   "metadata": {},
   "outputs": [],
   "source": [
    "#Entrada:Três linhas: números de xícaras da receita; números de colheres de sopa da receita, números de colheres da chá da receita\n",
    "#Nota: se uma receita não utilizar alguma das medidas, o valor correspondente é dado como 0 (zero)\n",
    "#uma xícara equivale a 240 ml;uma colher de sopa equivale a 15 ml;uma colher de chá equivale a 5 ml\n",
    "#Saída:O volume equivalente em ml para cada uma das porções necessárias à receita.\n",
    "\n",
    "xicara=int(input())\n",
    "colherS=int(input())\n",
    "colherC=int(input())\n",
    "\n",
    "print(xicara * 240,'ml')\n",
    "print(colherS * 15,'ml')\n",
    "print(colherC * 5,'ml')"
   ]
  },
  {
   "cell_type": "code",
   "execution_count": null,
   "id": "850e0731",
   "metadata": {},
   "outputs": [],
   "source": [
    "#Entrada:Duas linhas: a primeira com uma string (nome) e a segunda com um inteiro (idade)\n",
    "#Saída:Duas linhas: a primeira com a idade diminuída em dois anos, e a segunda com o nome.\n",
    "nome=str(input())\n",
    "idade=int(input())\n",
    "print(idade-2)\n",
    "print(nome)"
   ]
  },
  {
   "cell_type": "code",
   "execution_count": null,
   "id": "85019e63",
   "metadata": {},
   "outputs": [],
   "source": [
    "#Que problema você tem que resolver>Seu programa deve ler um valor com casas decimais e apresentá-lo com 2, 4, 6, 8 e 10 casas decimais\n",
    "#Entrada:Um valor com casas decimais\n",
    "\n",
    "n = float(input())\n",
    "print('%.2f'% n)\n",
    "print('%.4f'% n)\n",
    "print('%.6f'% n)\n",
    "print('%.8f'% n)\n",
    "print('%.10f'% n)"
   ]
  },
  {
   "cell_type": "code",
   "execution_count": 4,
   "id": "79cc7dcc",
   "metadata": {},
   "outputs": [
    {
     "name": "stdout",
     "output_type": "stream",
     "text": [
      "40\n",
      "98\n",
      "138\n",
      "-58\n",
      "3920\n",
      "0.41\n",
      "40\n",
      "0\n",
      "10043362776618689222137263077132266265763768711142455220633600000000000000000000000000000000000000000000000000000000000000000000000000000000000000000000000000\n"
     ]
    }
   ],
   "source": [
    "#Entrada>Duas linhas: cada uma contém um valor inteiro\n",
    "#Saída:O resultado de sete operações matemáticas: soma, subtração, multiplicação, divisão, módulo, divisão inteira e potência, nessa ordem, entre os dois valores fornecidos. \n",
    "#Um valor em cada linha. Quando necessário, considere valores com  duas casas decimais.\n",
    "\n",
    "x = int(input())\n",
    "y = int(input())\n",
    "\n",
    "print(x+y)\n",
    "print(x-y)\n",
    "print(x*y)\n",
    "print('%.2f'%(x/y))\n",
    "print(x%y)\n",
    "print(x//y)\n",
    "print(x**y)"
   ]
  },
  {
   "cell_type": "code",
   "execution_count": 9,
   "id": "5221e467",
   "metadata": {},
   "outputs": [
    {
     "name": "stdout",
     "output_type": "stream",
     "text": [
      "20\n",
      "/\n",
      "3\n",
      "6.67\n"
     ]
    }
   ],
   "source": [
    "#O que é fornecido como entrada?:Três linhas; a primeira com um valor inteiro, a segundo com o operador desejado, e a terceira com outro valor inteiro não nulo\n",
    "#O que seu programa deve produzir?:Uma linha com resultado. Quando necessário, utilize o resultado com uma casa decimal.\n",
    "a = int(input())\n",
    "op = str(input())\n",
    "b = int(input())\n",
    "\n",
    "if op == '+':\n",
    "    print(a+b)\n",
    "elif op == '-':\n",
    "    print(a-b)\n",
    "elif op == '*':\n",
    "    print(a*b)\n",
    "elif op == '/':\n",
    "    print('%.2f'%(a/b))\n",
    "elif op == '%':\n",
    "    print(a%b)\n",
    "elif op == '//':\n",
    "    print(a//b)\n",
    "elif op == '**':\n",
    "    print(a**b)"
   ]
  },
  {
   "cell_type": "code",
   "execution_count": 19,
   "id": "05fd01ec",
   "metadata": {},
   "outputs": [
    {
     "name": "stdout",
     "output_type": "stream",
     "text": [
      "4\n",
      "3\n",
      "12\n",
      "2.25\n"
     ]
    }
   ],
   "source": [
    "#Vamos resolver ax + b = c - Três linhas com os valores inteiros a, b  e c,respectivamente (a != 0)\n",
    "#Saída:O valor de x com duas casas decimais\n",
    "a = int(input())\n",
    "b = int(input())\n",
    "c = int(input())\n",
    "\n",
    "x = (c-b)/a\n",
    "print('%.2f'% x)"
   ]
  },
  {
   "cell_type": "code",
   "execution_count": 22,
   "id": "6583a5a0",
   "metadata": {},
   "outputs": [
    {
     "name": "stdout",
     "output_type": "stream",
     "text": [
      "20\n",
      "Fim\n"
     ]
    }
   ],
   "source": [
    "#Qual problema você tem que resolver?:Ler uma idade e, caso ela seja igual ou maior que 60, imprimir a idade seguida de Melhor idade!\n",
    "#Independentemente da idade lida, o programa deve concluir com a mensagem Fim\n",
    "\n",
    "idade = int(input())\n",
    "\n",
    "if idade >= 60:\n",
    "    print(idade, 'Melhor idade!')\n",
    "print('Fim')"
   ]
  },
  {
   "cell_type": "code",
   "execution_count": 29,
   "id": "1f46b2fa",
   "metadata": {},
   "outputs": [
    {
     "name": "stdout",
     "output_type": "stream",
     "text": [
      "America\n",
      "Bahia\n",
      "0\n",
      "0\n",
      "America 0\n",
      "Bahia 0\n",
      "início de jogo\n"
     ]
    }
   ],
   "source": [
    "#O que seu programa deve produzir?:Duas linhas, a primeira com os dados do primeiro time (nome e pontuação atual), e a segunda com os dados do segundo time \n",
    "#Caso nenhuma equipe tenha pontuado ainda, uma terceira linha informa que trata-se do início do jogo\n",
    "time1=str(input())\n",
    "time2=str(input())\n",
    "p1=int(input())\n",
    "p2=int(input())\n",
    "    \n",
    "print(time1,p1)\n",
    "print(time2,p2)\n",
    "\n",
    "if p1 + p2 == 0:\n",
    "    print('início de jogo')"
   ]
  },
  {
   "cell_type": "code",
   "execution_count": null,
   "id": "00ca60a0",
   "metadata": {},
   "outputs": [],
   "source": []
  }
 ],
 "metadata": {
  "kernelspec": {
   "display_name": "Python 3 (ipykernel)",
   "language": "python",
   "name": "python3"
  },
  "language_info": {
   "codemirror_mode": {
    "name": "ipython",
    "version": 3
   },
   "file_extension": ".py",
   "mimetype": "text/x-python",
   "name": "python",
   "nbconvert_exporter": "python",
   "pygments_lexer": "ipython3",
   "version": "3.10.4"
  }
 },
 "nbformat": 4,
 "nbformat_minor": 5
}
