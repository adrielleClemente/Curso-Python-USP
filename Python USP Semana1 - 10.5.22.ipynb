{
 "cells": [
  {
   "cell_type": "code",
   "execution_count": 1,
   "id": "f1a37ed1",
   "metadata": {},
   "outputs": [
    {
     "name": "stdout",
     "output_type": "stream",
     "text": [
      "\n",
      "\n",
      " \n"
     ]
    }
   ],
   "source": [
    "#Printar nome e sobrenome\n",
    "nome=input()\n",
    "sobrenome=input()\n",
    "print(nome,sobrenome)"
   ]
  },
  {
   "cell_type": "code",
   "execution_count": null,
   "id": "ce711ff4",
   "metadata": {},
   "outputs": [],
   "source": [
    "#Vamos calcular a idade de alguém?  Seu programa deve ler 2 valores inteiros oferecidos no dispositivo de entrada\n",
    "#primeira linha: o ano de nascimento de uma pessoa - segunda: o ano para o qual de deseja saber a idade da pessoa\n",
    "#e informar, como resultado, a idade da pessoa\n",
    "#Entrada:Duas linhas com um valor inteiro cada\n",
    "#Saída:A idade calculada\n",
    "\n",
    "nascimento=int(input('Ano de nacimento: '))\n",
    "ano_atual=int(input('Digite o ano atual: '))\n",
    "idade=ano_atual - nascimento\n",
    "print(idade)"
   ]
  },
  {
   "cell_type": "code",
   "execution_count": null,
   "id": "a8617743",
   "metadata": {},
   "outputs": [],
   "source": [
    "#O dobro\n",
    "a = int(input())\n",
    "print(a*2)"
   ]
  },
  {
   "cell_type": "code",
   "execution_count": null,
   "id": "b9549850",
   "metadata": {},
   "outputs": [],
   "source": [
    "#Entrada:Três linhas: números de xícaras da receita; números de colheres de sopa da receita, números de colheres da chá da receita\n",
    "#Nota: se uma receita não utilizar alguma das medidas, o valor correspondente é dado como 0 (zero)\n",
    "#uma xícara equivale a 240 ml;uma colher de sopa equivale a 15 ml;uma colher de chá equivale a 5 ml\n",
    "#Saída:O volume equivalente em ml para cada uma das porções necessárias à receita.\n",
    "\n",
    "xicara=int(input())\n",
    "colherS=int(input())\n",
    "colherC=int(input())\n",
    "\n",
    "print(xicara * 240,'ml')\n",
    "print(colherS * 15,'ml')\n",
    "print(colherC * 5,'ml')"
   ]
  },
  {
   "cell_type": "code",
   "execution_count": null,
   "id": "850e0731",
   "metadata": {},
   "outputs": [],
   "source": [
    "#Entrada:Duas linhas: a primeira com uma string (nome) e a segunda com um inteiro (idade)\n",
    "#Saída:Duas linhas: a primeira com a idade diminuída em dois anos, e a segunda com o nome.\n",
    "nome=str(input())\n",
    "idade=int(input())\n",
    "print(idade-2)\n",
    "print(nome)"
   ]
  },
  {
   "cell_type": "code",
   "execution_count": null,
   "id": "85019e63",
   "metadata": {},
   "outputs": [],
   "source": [
    "#Que problema você tem que resolver>Seu programa deve ler um valor com casas decimais e apresentá-lo com 2, 4, 6, 8 e 10 casas decimais\n",
    "#Entrada:Um valor com casas decimais\n",
    "\n",
    "n = float(input())\n",
    "print('%.2f'% n)\n",
    "print('%.4f'% n)\n",
    "print('%.6f'% n)\n",
    "print('%.8f'% n)\n",
    "print('%.10f'% n)"
   ]
  },
  {
   "cell_type": "code",
   "execution_count": null,
   "id": "79cc7dcc",
   "metadata": {},
   "outputs": [],
   "source": [
    "#Entrada>Duas linhas: cada uma contém um valor inteiro\n",
    "#Saída:O resultado de sete operações matemáticas: soma, subtração, multiplicação, divisão, módulo, divisão inteira e potência, nessa ordem, entre os dois valores fornecidos. \n",
    "#Um valor em cada linha. Quando necessário, considere valores com  duas casas decimais.\n",
    "\n",
    "x = int(input())\n",
    "y = int(input())\n",
    "\n",
    "print(x+y)\n",
    "print(x-y)\n",
    "print(x*y)\n",
    "print('%.2f'%(x/y))\n",
    "print(x%y)\n",
    "print(x//y)\n",
    "print(x**y)"
   ]
  },
  {
   "cell_type": "code",
   "execution_count": null,
   "id": "5221e467",
   "metadata": {},
   "outputs": [],
   "source": [
    "#O que é fornecido como entrada?:Três linhas; a primeira com um valor inteiro, a segundo com o operador desejado, e a terceira com outro valor inteiro não nulo\n",
    "#O que seu programa deve produzir?:Uma linha com resultado. Quando necessário, utilize o resultado com uma casa decimal.\n",
    "a = int(input())\n",
    "op = str(input())\n",
    "b = int(input())\n",
    "\n",
    "if op == '+':\n",
    "    print(a+b)\n",
    "elif op == '-':\n",
    "    print(a-b)\n",
    "elif op == '*':\n",
    "    print(a*b)\n",
    "elif op == '/':\n",
    "    print('%.2f'%(a/b))\n",
    "elif op == '%':\n",
    "    print(a%b)\n",
    "elif op == '//':\n",
    "    print(a//b)\n",
    "elif op == '**':\n",
    "    print(a**b)"
   ]
  },
  {
   "cell_type": "code",
   "execution_count": null,
   "id": "05fd01ec",
   "metadata": {},
   "outputs": [],
   "source": [
    "#Vamos resolver ax + b = c - Três linhas com os valores inteiros a, b  e c,respectivamente (a != 0)\n",
    "#Saída:O valor de x com duas casas decimais\n",
    "a = int(input())\n",
    "b = int(input())\n",
    "c = int(input())\n",
    "\n",
    "x = (c-b)/a\n",
    "print('%.2f'% x)"
   ]
  },
  {
   "cell_type": "code",
   "execution_count": null,
   "id": "6583a5a0",
   "metadata": {},
   "outputs": [],
   "source": [
    "#Qual problema você tem que resolver?:Ler uma idade e, caso ela seja igual ou maior que 60, imprimir a idade seguida de Melhor idade!\n",
    "#Independentemente da idade lida, o programa deve concluir com a mensagem Fim\n",
    "\n",
    "idade = int(input())\n",
    "\n",
    "if idade >= 60:\n",
    "    print(idade, 'Melhor idade!')\n",
    "print('Fim')"
   ]
  },
  {
   "cell_type": "code",
   "execution_count": null,
   "id": "1f46b2fa",
   "metadata": {},
   "outputs": [],
   "source": [
    "#O que seu programa deve produzir?:Duas linhas, a primeira com os dados do primeiro time (nome e pontuação atual), e a segunda com os dados do segundo time \n",
    "#Caso nenhuma equipe tenha pontuado ainda, uma terceira linha informa que trata-se do início do jogo\n",
    "time1=str(input())\n",
    "time2=str(input())\n",
    "p1=int(input())\n",
    "p2=int(input())\n",
    "    \n",
    "print(time1,p1)\n",
    "print(time2,p2)\n",
    "\n",
    "if p1 + p2 == 0:\n",
    "    print('início de jogo')"
   ]
  },
  {
   "cell_type": "code",
   "execution_count": null,
   "id": "00ca60a0",
   "metadata": {},
   "outputs": [],
   "source": []
  }
 ],
 "metadata": {
  "kernelspec": {
   "display_name": "Python 3 (ipykernel)",
   "language": "python",
   "name": "python3"
  },
  "language_info": {
   "codemirror_mode": {
    "name": "ipython",
    "version": 3
   },
   "file_extension": ".py",
   "mimetype": "text/x-python",
   "name": "python",
   "nbconvert_exporter": "python",
   "pygments_lexer": "ipython3",
   "version": "3.10.4"
  }
 },
 "nbformat": 4,
 "nbformat_minor": 5
}
